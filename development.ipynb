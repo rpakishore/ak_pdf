{
 "cells": [
  {
   "cell_type": "code",
   "execution_count": null,
   "metadata": {},
   "outputs": [],
   "source": [
    "from ak_pdf import Reader, debug\n",
    "debug(True) #For debug messages, Can be skipped.\n",
    "\n",
    "## Initialize\n",
    "pdf = Reader(filepath=r\"textbook.pdf\", password=None)\n",
    "\n",
    "### Document metadata\n",
    "pdf.metadata\n",
    "\n",
    "### Check if pdf is encrypted\n",
    "pdf.encrypted\n",
    "\n",
    "### get number of pages\n",
    "pdf.num_pages\n",
    "\n",
    "### get list of page objects\n",
    "pdf.pages   #list[PageObjects]\n",
    "\n",
    "### get page text\n",
    "pdf.text(10)    #gets text from 11th page (page_idx=10); Results cached\n",
    "\n",
    "### get images from page\n",
    "pdf.images(page_idx=10) #List of PIL Image Objects from 11th page\n",
    "\n",
    "### Extract and save images\n",
    "pdf.save_images(page_idx=10, folderpath='C:\\\\')\n",
    "\n",
    "### get pagelabel\n",
    "pdf.page_number(page_idx=10) #or\n",
    "pdf.page_number(page=pdf.pages[10])"
   ]
  },
  {
   "cell_type": "code",
   "execution_count": null,
   "metadata": {},
   "outputs": [],
   "source": [
    "\n",
    "pdf = Reader(filepath=r\"C:\\Users\\rpakishore\\Downloads\\Documents\\STRUCTVILLE TEXTBOOK.pdf\", password=None)\n",
    "pdf = Reader(filepath=r\"C:\\Users\\rpakishore\\Downloads\\Documents\\STRUCTVILLE TEXTBOOK.pdf\", password=None)"
   ]
  }
 ],
 "metadata": {
  "kernelspec": {
   "display_name": ".venv",
   "language": "python",
   "name": "python3"
  },
  "language_info": {
   "codemirror_mode": {
    "name": "ipython",
    "version": 3
   },
   "file_extension": ".py",
   "mimetype": "text/x-python",
   "name": "python",
   "nbconvert_exporter": "python",
   "pygments_lexer": "ipython3",
   "version": "3.11.4"
  },
  "orig_nbformat": 4
 },
 "nbformat": 4,
 "nbformat_minor": 2
}
